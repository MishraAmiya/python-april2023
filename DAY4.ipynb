{
 "cells": [
  {
   "cell_type": "code",
   "execution_count": 1,
   "id": "d6780a1b-349b-46ae-9e03-c2bdd82e3c7a",
   "metadata": {},
   "outputs": [
    {
     "name": "stdout",
     "output_type": "stream",
     "text": [
      "9\n"
     ]
    }
   ],
   "source": [
    "def func(x,y,z) :\n",
    "    return x + y + z\n",
    "\n",
    "print(func(2,3,4))\n"
   ]
  },
  {
   "cell_type": "code",
   "execution_count": 2,
   "id": "e36fdf87-8fb1-4bc0-aee5-fea63c8ec132",
   "metadata": {},
   "outputs": [
    {
     "name": "stdout",
     "output_type": "stream",
     "text": [
      "9\n"
     ]
    }
   ],
   "source": [
    "f = lambda x, y, z : x + y + z\n",
    "\n",
    "print(f(2,3,4))"
   ]
  },
  {
   "cell_type": "code",
   "execution_count": 4,
   "id": "f01c4244-5b73-4de7-a69f-31328f0fd8af",
   "metadata": {},
   "outputs": [
    {
     "name": "stdout",
     "output_type": "stream",
     "text": [
      "[3, 4]\n"
     ]
    }
   ],
   "source": [
    "aList = [1,2,3,4,5,6,7]\n",
    "low = 2\n",
    "high = 5\n",
    "\n",
    "print(list(filter(lambda x, l = low, h=high : h > x > l, aList)))"
   ]
  },
  {
   "cell_type": "code",
   "execution_count": 7,
   "id": "9f6e654b-5338-4876-a1c5-90345e17d8f0",
   "metadata": {},
   "outputs": [
    {
     "name": "stdout",
     "output_type": "stream",
     "text": [
      "5\n",
      "8\n",
      "2\n",
      "(23, 'xyz')\n",
      "(23,)\n"
     ]
    }
   ],
   "source": [
    "a = lambda x, y= 2 :x+y\n",
    "\n",
    "print(a(3))\n",
    "print(a(3,5))\n",
    "print(a(0))\n",
    "\n",
    "b = lambda *z : z\n",
    "\n",
    "print(b(23, 'xyz'))\n",
    "\n",
    "print(b(23))"
   ]
  },
  {
   "cell_type": "code",
   "execution_count": 8,
   "id": "a693d593-1b90-44e8-bd0c-199fa5a3ff65",
   "metadata": {},
   "outputs": [
    {
     "name": "stdout",
     "output_type": "stream",
     "text": [
      "foo.txt\n",
      "False\n",
      "wb\n"
     ]
    }
   ],
   "source": [
    "fo = open(\"foo.txt\", \"wb\")\n",
    "print(fo.name)\n",
    "print(fo.closed)\n",
    "print(fo.mode)\n",
    "fo.close()"
   ]
  },
  {
   "cell_type": "code",
   "execution_count": 9,
   "id": "157c0c31-5ab1-471c-ab5f-9e65e98681ae",
   "metadata": {},
   "outputs": [],
   "source": [
    "fo = open(\"foo.txt\", \"w\")\n",
    "fo.write(\"Python IO application demo\")\n",
    "fo.close()"
   ]
  },
  {
   "cell_type": "code",
   "execution_count": 11,
   "id": "045d4471-8e35-4544-84c7-84b041714eb8",
   "metadata": {},
   "outputs": [
    {
     "name": "stdout",
     "output_type": "stream",
     "text": [
      "Python IO application demo\n"
     ]
    }
   ],
   "source": [
    "fo = open(\"foo.txt\", \"r+\")\n",
    "str = fo.read(100)\n",
    "print(str)\n",
    "fo.close()"
   ]
  },
  {
   "cell_type": "code",
   "execution_count": 12,
   "id": "9db992bc-500a-46e1-9a56-702c943ede9d",
   "metadata": {},
   "outputs": [],
   "source": [
    "import os\n",
    "\n",
    "os.rename(\"foo.txt\", \"foo1.txt\")"
   ]
  },
  {
   "cell_type": "code",
   "execution_count": 13,
   "id": "31612e6d-5e06-4f5a-8e8d-7792f95c1f6a",
   "metadata": {},
   "outputs": [],
   "source": [
    "os.mkdir(\"citi\")"
   ]
  },
  {
   "cell_type": "code",
   "execution_count": 14,
   "id": "af2a6829-d012-46ee-98d4-6fccb982ac10",
   "metadata": {},
   "outputs": [],
   "source": [
    "os.chdir(\"c:/classroom\")\n"
   ]
  },
  {
   "cell_type": "code",
   "execution_count": 15,
   "id": "52b3a2cd-b0ee-4014-a92e-efd40a8f90f2",
   "metadata": {},
   "outputs": [
    {
     "data": {
      "text/plain": [
       "'c:\\\\classroom'"
      ]
     },
     "execution_count": 15,
     "metadata": {},
     "output_type": "execute_result"
    }
   ],
   "source": [
    "os.getcwd()"
   ]
  },
  {
   "cell_type": "code",
   "execution_count": 16,
   "id": "9e9e7d7d-dd7d-48d2-97d7-0695e2ca6130",
   "metadata": {},
   "outputs": [],
   "source": [
    "os.rmdir(\"deleteme\")"
   ]
  },
  {
   "cell_type": "code",
   "execution_count": 17,
   "id": "5d016bed-4811-467b-bd55-a813cec9e2bb",
   "metadata": {},
   "outputs": [],
   "source": [
    "os.remove(\"deletefile.txt\")\n"
   ]
  },
  {
   "cell_type": "code",
   "execution_count": null,
   "id": "b8266f6a-8f16-4d8e-8a86-291256a1c9c3",
   "metadata": {},
   "outputs": [],
   "source": [
    "'''\n",
    "\n",
    "r - read\n",
    "rU - read with universal newline (PEP 278)\n",
    "\n",
    "r+ - read and write \n",
    "rb - read binary\n",
    "rb+ - read binary and write\n",
    "\n",
    "\n",
    "W, w - write\n",
    "w+ - write and read\n",
    "wb - write binary \n",
    "wb+ - write binary and read \n",
    "\n",
    "\n",
    "A, a - append \n",
    "a+\n",
    "ab\n",
    "ab+\n",
    "\n",
    "\n",
    "\n",
    "'''"
   ]
  },
  {
   "cell_type": "code",
   "execution_count": 20,
   "id": "ed7cb76e-12f6-4f2d-b467-d512bb21cc64",
   "metadata": {},
   "outputs": [
    {
     "name": "stdout",
     "output_type": "stream",
     "text": [
      "Welcome to Flaskâ€™s documentation. Get started with Installation and then get an overview with the Quickstart. \n",
      " There is also a more detailed Tutorial that shows how to create a small but complete application with Flask. \n",
      " Common patterns are described in the Patterns for Flask section. The rest of the docs describe each component \n",
      " of Flask in detail, with a full reference in the API section.\n",
      " \n",
      " Flask depends on the Werkzeug WSGI toolkit, the Jinja template engine, and the Click CLI toolkit.\n",
      " Be sure to check their documentation as well as Flaskâ€™s when looking for information.\n",
      " \n",
      " Userâ€™s Guide\n",
      " Flask provides configuration and conventions, with sensible defaults, to get started. \n",
      " This section of the documentation explains the different parts of the Flask framework \n",
      " and how they can be used, customized, and extended. Beyond Flask itself, look for \n",
      " community-maintained extensions to add even more functionality. "
     ]
    }
   ],
   "source": [
    "os.chdir(\"c:/Users/dr_vi/PYTHON_CITI\")\n",
    "\n",
    "filename = 'sample.txt'\n",
    "\n",
    "fobj = open(filename, 'r')\n",
    "\n",
    "for eachLine in fobj :\n",
    "    print(eachLine, end = ' ')\n",
    "fobj.close()\n"
   ]
  },
  {
   "cell_type": "code",
   "execution_count": 21,
   "id": "2cfe7c82-d99f-46eb-97c4-c58edf5f6fa4",
   "metadata": {},
   "outputs": [
    {
     "name": "stdout",
     "output_type": "stream",
     "text": [
      "['Welcome to Flaskâ€™s documentation. Get started with Installation and then get an overview with the Quickstart. \\n', 'There is also a more detailed Tutorial that shows how to create a small but complete application with Flask. \\n', 'Common patterns are described in the Patterns for Flask section. The rest of the docs describe each component \\n', 'of Flask in detail, with a full reference in the API section.\\n', '\\n', 'Flask depends on the Werkzeug WSGI toolkit, the Jinja template engine, and the Click CLI toolkit.\\n', 'Be sure to check their documentation as well as Flaskâ€™s when looking for information.\\n', '\\n', 'Userâ€™s Guide\\n', 'Flask provides configuration and conventions, with sensible defaults, to get started. \\n', 'This section of the documentation explains the different parts of the Flask framework \\n', 'and how they can be used, customized, and extended. Beyond Flask itself, look for \\n', 'community-maintained extensions to add even more functionality.']\n"
     ]
    }
   ],
   "source": [
    "print(list(open('sample.txt')))"
   ]
  },
  {
   "cell_type": "code",
   "execution_count": 22,
   "id": "6eaec106-b7f4-430a-897a-575a7160c750",
   "metadata": {},
   "outputs": [
    {
     "name": "stdout",
     "output_type": "stream",
     "text": [
      "('Welcome to Flaskâ€™s documentation. Get started with Installation and then get an overview with the Quickstart. \\n', 'There is also a more detailed Tutorial that shows how to create a small but complete application with Flask. \\n', 'Common patterns are described in the Patterns for Flask section. The rest of the docs describe each component \\n', 'of Flask in detail, with a full reference in the API section.\\n', '\\n', 'Flask depends on the Werkzeug WSGI toolkit, the Jinja template engine, and the Click CLI toolkit.\\n', 'Be sure to check their documentation as well as Flaskâ€™s when looking for information.\\n', '\\n', 'Userâ€™s Guide\\n', 'Flask provides configuration and conventions, with sensible defaults, to get started. \\n', 'This section of the documentation explains the different parts of the Flask framework \\n', 'and how they can be used, customized, and extended. Beyond Flask itself, look for \\n', 'community-maintained extensions to add even more functionality.')\n"
     ]
    }
   ],
   "source": [
    "print(tuple(open('sample.txt')))"
   ]
  },
  {
   "cell_type": "code",
   "execution_count": 23,
   "id": "490786ae-c7d9-430a-9985-221ef1d02ab0",
   "metadata": {},
   "outputs": [
    {
     "name": "stdout",
     "output_type": "stream",
     "text": [
      "Welcome to Flaskâ€™s documentation. Get started with Installation and then get an overview with the Quickstart. \n",
      "&&There is also a more detailed Tutorial that shows how to create a small but complete application with Flask. \n",
      "&&Common patterns are described in the Patterns for Flask section. The rest of the docs describe each component \n",
      "&&of Flask in detail, with a full reference in the API section.\n",
      "&&\n",
      "&&Flask depends on the Werkzeug WSGI toolkit, the Jinja template engine, and the Click CLI toolkit.\n",
      "&&Be sure to check their documentation as well as Flaskâ€™s when looking for information.\n",
      "&&\n",
      "&&Userâ€™s Guide\n",
      "&&Flask provides configuration and conventions, with sensible defaults, to get started. \n",
      "&&This section of the documentation explains the different parts of the Flask framework \n",
      "&&and how they can be used, customized, and extended. Beyond Flask itself, look for \n",
      "&&community-maintained extensions to add even more functionality.\n"
     ]
    }
   ],
   "source": [
    "print('&&'.join(open('sample.txt')))\n"
   ]
  },
  {
   "cell_type": "code",
   "execution_count": null,
   "id": "8a771121-115e-4d80-9b90-90bc938e72ec",
   "metadata": {},
   "outputs": [],
   "source": []
  }
 ],
 "metadata": {
  "kernelspec": {
   "display_name": "Python 3 (ipykernel)",
   "language": "python",
   "name": "python3"
  },
  "language_info": {
   "codemirror_mode": {
    "name": "ipython",
    "version": 3
   },
   "file_extension": ".py",
   "mimetype": "text/x-python",
   "name": "python",
   "nbconvert_exporter": "python",
   "pygments_lexer": "ipython3",
   "version": "3.9.12"
  }
 },
 "nbformat": 4,
 "nbformat_minor": 5
}
