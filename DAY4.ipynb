{
 "cells": [
  {
   "cell_type": "code",
   "execution_count": 1,
   "id": "d6780a1b-349b-46ae-9e03-c2bdd82e3c7a",
   "metadata": {},
   "outputs": [
    {
     "name": "stdout",
     "output_type": "stream",
     "text": [
      "9\n"
     ]
    }
   ],
   "source": [
    "def func(x,y,z) :\n",
    "    return x + y + z\n",
    "\n",
    "print(func(2,3,4))\n"
   ]
  },
  {
   "cell_type": "code",
   "execution_count": 2,
   "id": "e36fdf87-8fb1-4bc0-aee5-fea63c8ec132",
   "metadata": {},
   "outputs": [
    {
     "name": "stdout",
     "output_type": "stream",
     "text": [
      "9\n"
     ]
    }
   ],
   "source": [
    "f = lambda x, y, z : x + y + z\n",
    "\n",
    "print(f(2,3,4))"
   ]
  },
  {
   "cell_type": "code",
   "execution_count": 4,
   "id": "f01c4244-5b73-4de7-a69f-31328f0fd8af",
   "metadata": {},
   "outputs": [
    {
     "name": "stdout",
     "output_type": "stream",
     "text": [
      "[3, 4]\n"
     ]
    }
   ],
   "source": [
    "aList = [1,2,3,4,5,6,7]\n",
    "low = 2\n",
    "high = 5\n",
    "\n",
    "print(list(filter(lambda x, l = low, h=high : h > x > l, aList)))"
   ]
  },
  {
   "cell_type": "code",
   "execution_count": 7,
   "id": "9f6e654b-5338-4876-a1c5-90345e17d8f0",
   "metadata": {},
   "outputs": [
    {
     "name": "stdout",
     "output_type": "stream",
     "text": [
      "5\n",
      "8\n",
      "2\n",
      "(23, 'xyz')\n",
      "(23,)\n"
     ]
    }
   ],
   "source": [
    "a = lambda x, y= 2 :x+y\n",
    "\n",
    "print(a(3))\n",
    "print(a(3,5))\n",
    "print(a(0))\n",
    "\n",
    "b = lambda *z : z\n",
    "\n",
    "print(b(23, 'xyz'))\n",
    "\n",
    "print(b(23))"
   ]
  },
  {
   "cell_type": "code",
   "execution_count": 8,
   "id": "a693d593-1b90-44e8-bd0c-199fa5a3ff65",
   "metadata": {},
   "outputs": [
    {
     "name": "stdout",
     "output_type": "stream",
     "text": [
      "foo.txt\n",
      "False\n",
      "wb\n"
     ]
    }
   ],
   "source": [
    "fo = open(\"foo.txt\", \"wb\")\n",
    "print(fo.name)\n",
    "print(fo.closed)\n",
    "print(fo.mode)\n",
    "fo.close()"
   ]
  },
  {
   "cell_type": "code",
   "execution_count": 9,
   "id": "157c0c31-5ab1-471c-ab5f-9e65e98681ae",
   "metadata": {},
   "outputs": [],
   "source": [
    "fo = open(\"foo.txt\", \"w\")\n",
    "fo.write(\"Python IO application demo\")\n",
    "fo.close()"
   ]
  },
  {
   "cell_type": "code",
   "execution_count": 11,
   "id": "045d4471-8e35-4544-84c7-84b041714eb8",
   "metadata": {},
   "outputs": [
    {
     "name": "stdout",
     "output_type": "stream",
     "text": [
      "Python IO application demo\n"
     ]
    }
   ],
   "source": [
    "fo = open(\"foo.txt\", \"r+\")\n",
    "str = fo.read(100)\n",
    "print(str)\n",
    "fo.close()"
   ]
  },
  {
   "cell_type": "code",
   "execution_count": 12,
   "id": "9db992bc-500a-46e1-9a56-702c943ede9d",
   "metadata": {},
   "outputs": [],
   "source": [
    "import os\n",
    "\n",
    "os.rename(\"foo.txt\", \"foo1.txt\")"
   ]
  },
  {
   "cell_type": "code",
   "execution_count": 13,
   "id": "31612e6d-5e06-4f5a-8e8d-7792f95c1f6a",
   "metadata": {},
   "outputs": [],
   "source": [
    "os.mkdir(\"citi\")"
   ]
  },
  {
   "cell_type": "code",
   "execution_count": 14,
   "id": "af2a6829-d012-46ee-98d4-6fccb982ac10",
   "metadata": {},
   "outputs": [],
   "source": [
    "os.chdir(\"c:/classroom\")\n"
   ]
  },
  {
   "cell_type": "code",
   "execution_count": 15,
   "id": "52b3a2cd-b0ee-4014-a92e-efd40a8f90f2",
   "metadata": {},
   "outputs": [
    {
     "data": {
      "text/plain": [
       "'c:\\\\classroom'"
      ]
     },
     "execution_count": 15,
     "metadata": {},
     "output_type": "execute_result"
    }
   ],
   "source": [
    "os.getcwd()"
   ]
  },
  {
   "cell_type": "code",
   "execution_count": 16,
   "id": "9e9e7d7d-dd7d-48d2-97d7-0695e2ca6130",
   "metadata": {},
   "outputs": [],
   "source": [
    "os.rmdir(\"deleteme\")"
   ]
  },
  {
   "cell_type": "code",
   "execution_count": 17,
   "id": "5d016bed-4811-467b-bd55-a813cec9e2bb",
   "metadata": {},
   "outputs": [],
   "source": [
    "os.remove(\"deletefile.txt\")\n"
   ]
  },
  {
   "cell_type": "code",
   "execution_count": null,
   "id": "b8266f6a-8f16-4d8e-8a86-291256a1c9c3",
   "metadata": {},
   "outputs": [],
   "source": [
    "'''\n",
    "\n",
    "r - read\n",
    "rU - read with universal newline (PEP 278)\n",
    "\n",
    "r+ - read and write \n",
    "rb - read binary\n",
    "rb+ - read binary and write\n",
    "\n",
    "\n",
    "W, w - write\n",
    "w+ - write and read\n",
    "wb - write binary \n",
    "wb+ - write binary and read \n",
    "\n",
    "\n",
    "A, a - append \n",
    "a+\n",
    "ab\n",
    "ab+\n",
    "\n",
    "\n",
    "\n",
    "'''"
   ]
  },
  {
   "cell_type": "code",
   "execution_count": 20,
   "id": "ed7cb76e-12f6-4f2d-b467-d512bb21cc64",
   "metadata": {},
   "outputs": [
    {
     "name": "stdout",
     "output_type": "stream",
     "text": [
      "Welcome to Flaskâ€™s documentation. Get started with Installation and then get an overview with the Quickstart. \n",
      " There is also a more detailed Tutorial that shows how to create a small but complete application with Flask. \n",
      " Common patterns are described in the Patterns for Flask section. The rest of the docs describe each component \n",
      " of Flask in detail, with a full reference in the API section.\n",
      " \n",
      " Flask depends on the Werkzeug WSGI toolkit, the Jinja template engine, and the Click CLI toolkit.\n",
      " Be sure to check their documentation as well as Flaskâ€™s when looking for information.\n",
      " \n",
      " Userâ€™s Guide\n",
      " Flask provides configuration and conventions, with sensible defaults, to get started. \n",
      " This section of the documentation explains the different parts of the Flask framework \n",
      " and how they can be used, customized, and extended. Beyond Flask itself, look for \n",
      " community-maintained extensions to add even more functionality. "
     ]
    }
   ],
   "source": [
    "os.chdir(\"c:/Users/dr_vi/PYTHON_CITI\")\n",
    "\n",
    "filename = 'sample.txt'\n",
    "\n",
    "fobj = open(filename, 'r')\n",
    "\n",
    "for eachLine in fobj :\n",
    "    print(eachLine, end = ' ')\n",
    "fobj.close()\n"
   ]
  },
  {
   "cell_type": "code",
   "execution_count": 21,
   "id": "2cfe7c82-d99f-46eb-97c4-c58edf5f6fa4",
   "metadata": {},
   "outputs": [
    {
     "name": "stdout",
     "output_type": "stream",
     "text": [
      "['Welcome to Flaskâ€™s documentation. Get started with Installation and then get an overview with the Quickstart. \\n', 'There is also a more detailed Tutorial that shows how to create a small but complete application with Flask. \\n', 'Common patterns are described in the Patterns for Flask section. The rest of the docs describe each component \\n', 'of Flask in detail, with a full reference in the API section.\\n', '\\n', 'Flask depends on the Werkzeug WSGI toolkit, the Jinja template engine, and the Click CLI toolkit.\\n', 'Be sure to check their documentation as well as Flaskâ€™s when looking for information.\\n', '\\n', 'Userâ€™s Guide\\n', 'Flask provides configuration and conventions, with sensible defaults, to get started. \\n', 'This section of the documentation explains the different parts of the Flask framework \\n', 'and how they can be used, customized, and extended. Beyond Flask itself, look for \\n', 'community-maintained extensions to add even more functionality.']\n"
     ]
    }
   ],
   "source": [
    "print(list(open('sample.txt')))"
   ]
  },
  {
   "cell_type": "code",
   "execution_count": 22,
   "id": "6eaec106-b7f4-430a-897a-575a7160c750",
   "metadata": {},
   "outputs": [
    {
     "name": "stdout",
     "output_type": "stream",
     "text": [
      "('Welcome to Flaskâ€™s documentation. Get started with Installation and then get an overview with the Quickstart. \\n', 'There is also a more detailed Tutorial that shows how to create a small but complete application with Flask. \\n', 'Common patterns are described in the Patterns for Flask section. The rest of the docs describe each component \\n', 'of Flask in detail, with a full reference in the API section.\\n', '\\n', 'Flask depends on the Werkzeug WSGI toolkit, the Jinja template engine, and the Click CLI toolkit.\\n', 'Be sure to check their documentation as well as Flaskâ€™s when looking for information.\\n', '\\n', 'Userâ€™s Guide\\n', 'Flask provides configuration and conventions, with sensible defaults, to get started. \\n', 'This section of the documentation explains the different parts of the Flask framework \\n', 'and how they can be used, customized, and extended. Beyond Flask itself, look for \\n', 'community-maintained extensions to add even more functionality.')\n"
     ]
    }
   ],
   "source": [
    "print(tuple(open('sample.txt')))"
   ]
  },
  {
   "cell_type": "code",
   "execution_count": 23,
   "id": "490786ae-c7d9-430a-9985-221ef1d02ab0",
   "metadata": {},
   "outputs": [
    {
     "name": "stdout",
     "output_type": "stream",
     "text": [
      "Welcome to Flaskâ€™s documentation. Get started with Installation and then get an overview with the Quickstart. \n",
      "&&There is also a more detailed Tutorial that shows how to create a small but complete application with Flask. \n",
      "&&Common patterns are described in the Patterns for Flask section. The rest of the docs describe each component \n",
      "&&of Flask in detail, with a full reference in the API section.\n",
      "&&\n",
      "&&Flask depends on the Werkzeug WSGI toolkit, the Jinja template engine, and the Click CLI toolkit.\n",
      "&&Be sure to check their documentation as well as Flaskâ€™s when looking for information.\n",
      "&&\n",
      "&&Userâ€™s Guide\n",
      "&&Flask provides configuration and conventions, with sensible defaults, to get started. \n",
      "&&This section of the documentation explains the different parts of the Flask framework \n",
      "&&and how they can be used, customized, and extended. Beyond Flask itself, look for \n",
      "&&community-maintained extensions to add even more functionality.\n"
     ]
    }
   ],
   "source": [
    "print('&&'.join(open('sample.txt')))\n"
   ]
  },
  {
   "cell_type": "code",
   "execution_count": 25,
   "id": "8a771121-115e-4d80-9b90-90bc938e72ec",
   "metadata": {},
   "outputs": [
    {
     "name": "stdout",
     "output_type": "stream",
     "text": [
      "['ANGULAR14', 'APACHE_SPARK', 'DATASCIENCE', 'DCA', 'GIT', 'JAVA_PERFORMANCE', 'ML_DEPLOY', 'temp']\n"
     ]
    }
   ],
   "source": [
    "import os\n",
    "\n",
    "print(os.listdir(\"c:/classroom\"))"
   ]
  },
  {
   "cell_type": "raw",
   "id": "87ea1e30-d3a2-4b03-b026-34041a3ad5e7",
   "metadata": {},
   "source": []
  },
  {
   "cell_type": "code",
   "execution_count": 2,
   "id": "3803cb95-1f69-4ff3-b867-a827e49f52b7",
   "metadata": {},
   "outputs": [
    {
     "name": "stdout",
     "output_type": "stream",
     "text": [
      "['$Recycle.Bin', '$WinREAgent', '000V', '657_Private-Songs_060_-Raghavendra-Suprabhatam.mp3', 'Bhagavan Das -  Shiva Shambho _mp3clan.com_.mp3', 'CLASSROOM', 'DIVOTIONAL', 'Documents and Settings', 'DumpStack.log.tmp', 'HashiCorp', 'hiberfil.sys', 'Intel', 'MSOCache', 'nltk_data', 'OneDriveTemp', 'pagefile.sys', 'PerfLogs', 'Program Files', 'Program Files (x86)', 'ProgramData', 'Recovery', 'RELAXING_MUSIC', 'SOFTWARES', 'songs assorted', 'swapfile.sys', 'System Volume Information', 'TEMP', 'tmp', 'Users', 'VMWARES', 'Windows']\n"
     ]
    }
   ],
   "source": [
    "import os\n",
    "dirname = \"c:/\"\n",
    "print(os.listdir(dirname))"
   ]
  },
  {
   "cell_type": "code",
   "execution_count": 5,
   "id": "8cc87a73-dfd8-4d0c-a27c-fec907078ab2",
   "metadata": {},
   "outputs": [
    {
     "name": "stdout",
     "output_type": "stream",
     "text": [
      "Welcome to Flask’s documentation. Get started with Installation and then get an overview with the Quickstart. \n",
      "\n",
      "Common patterns are described in the Patterns for Flask section. The rest of the docs describe each component \n",
      "\n"
     ]
    }
   ],
   "source": [
    "import linecache\n",
    "\n",
    "filePath = \"sample.txt\"\n",
    "print(linecache.getline(filePath, 1))\n",
    "\n",
    "print(linecache.getline(filePath, 3))\n",
    "\n",
    "\n",
    "linecache.clearcache()"
   ]
  },
  {
   "cell_type": "code",
   "execution_count": 6,
   "id": "e566bf23-eb2b-4490-8c80-3243124332a8",
   "metadata": {},
   "outputs": [
    {
     "name": "stdout",
     "output_type": "stream",
     "text": [
      "Column name are Date,Open,High,Low,Close,Volume\n",
      "\t 111.19 works in the 109.26 department, and was born in 7-Dec-16.\n",
      "\t 110.36 works in the 109.50 department, and was born in 6-Dec-16.\n",
      "\t 110.03 works in the 110.00 department, and was born in 5-Dec-16.\n",
      "\t 110.09 works in the 109.17 department, and was born in 2-Dec-16.\n",
      "\t 110.94 works in the 110.36 department, and was born in 1-Dec-16.\n",
      "\t 112.20 works in the 111.60 department, and was born in 30-Nov-16.\n",
      "\t 112.03 works in the 110.78 department, and was born in 29-Nov-16.\n",
      "\t 112.46 works in the 111.43 department, and was born in 28-Nov-16.\n",
      "\t 111.87 works in the 111.47 department, and was born in 25-Nov-16.\n",
      "\t 111.51 works in the 111.36 department, and was born in 23-Nov-16.\n",
      "\t 112.42 works in the 111.95 department, and was born in 22-Nov-16.\n",
      "\t 111.99 works in the 110.12 department, and was born in 21-Nov-16.\n",
      "\t 110.54 works in the 109.72 department, and was born in 18-Nov-16.\n",
      "\t 110.35 works in the 109.81 department, and was born in 17-Nov-16.\n",
      "\t 110.23 works in the 106.70 department, and was born in 16-Nov-16.\n",
      "\t 107.68 works in the 106.57 department, and was born in 15-Nov-16.\n",
      "\t 107.81 works in the 107.71 department, and was born in 14-Nov-16.\n",
      "\t 108.87 works in the 107.12 department, and was born in 11-Nov-16.\n",
      "\t 111.09 works in the 111.09 department, and was born in 10-Nov-16.\n",
      "\t 111.32 works in the 109.88 department, and was born in 9-Nov-16.\n",
      "\t 111.72 works in the 110.31 department, and was born in 8-Nov-16.\n",
      "\t 110.51 works in the 110.08 department, and was born in 7-Nov-16.\n",
      "\t 110.25 works in the 108.53 department, and was born in 4-Nov-16.\n",
      "\t 111.46 works in the 110.98 department, and was born in 3-Nov-16.\n",
      "\t 112.35 works in the 111.40 department, and was born in 2-Nov-16.\n",
      "\t 113.77 works in the 113.46 department, and was born in 1-Nov-16.\n",
      "\t 114.23 works in the 113.65 department, and was born in 31-Oct-16.\n",
      "\t 115.21 works in the 113.87 department, and was born in 28-Oct-16.\n",
      "\t 115.86 works in the 115.39 department, and was born in 27-Oct-16.\n",
      "\t 115.70 works in the 114.31 department, and was born in 26-Oct-16.\n",
      "\t 118.36 works in the 117.95 department, and was born in 25-Oct-16.\n",
      "\t 117.74 works in the 117.10 department, and was born in 24-Oct-16.\n",
      "\t 116.91 works in the 116.81 department, and was born in 21-Oct-16.\n",
      "\t 117.38 works in the 116.86 department, and was born in 20-Oct-16.\n",
      "\t 117.76 works in the 117.25 department, and was born in 19-Oct-16.\n",
      "\t 118.21 works in the 118.18 department, and was born in 18-Oct-16.\n",
      "\t 117.84 works in the 117.33 department, and was born in 17-Oct-16.\n",
      "\t 118.17 works in the 117.88 department, and was born in 14-Oct-16.\n",
      "\t 117.44 works in the 116.79 department, and was born in 13-Oct-16.\n",
      "\t 117.98 works in the 117.35 department, and was born in 12-Oct-16.\n",
      "\t 118.69 works in the 117.70 department, and was born in 11-Oct-16.\n",
      "\t 116.75 works in the 115.02 department, and was born in 10-Oct-16.\n",
      "\t 114.56 works in the 114.31 department, and was born in 7-Oct-16.\n",
      "\t 114.34 works in the 113.70 department, and was born in 6-Oct-16.\n",
      "\t 113.66 works in the 113.40 department, and was born in 5-Oct-16.\n",
      "\t 114.31 works in the 113.06 department, and was born in 4-Oct-16.\n",
      "\t 113.05 works in the 112.71 department, and was born in 3-Oct-16.\n",
      "\t 113.37 works in the 112.46 department, and was born in 30-Sep-16.\n",
      "\t 113.80 works in the 113.16 department, and was born in 29-Sep-16.\n",
      "\t 114.64 works in the 113.69 department, and was born in 28-Sep-16.\n",
      "\t 113.18 works in the 113.00 department, and was born in 27-Sep-16.\n",
      "\t 113.39 works in the 111.64 department, and was born in 26-Sep-16.\n",
      "\t 114.79 works in the 114.42 department, and was born in 23-Sep-16.\n",
      "\t 114.94 works in the 114.35 department, and was born in 22-Sep-16.\n",
      "\t 113.99 works in the 113.85 department, and was born in 21-Sep-16.\n",
      "\t 114.12 works in the 113.05 department, and was born in 20-Sep-16.\n",
      "\t 116.18 works in the 115.19 department, and was born in 19-Sep-16.\n",
      "\t 116.13 works in the 115.12 department, and was born in 16-Sep-16.\n",
      "\t 115.73 works in the 113.86 department, and was born in 15-Sep-16.\n",
      "\t 113.03 works in the 108.73 department, and was born in 14-Sep-16.\n",
      "\t 108.79 works in the 107.51 department, and was born in 13-Sep-16.\n",
      "\t 105.72 works in the 102.65 department, and was born in 12-Sep-16.\n",
      "\t 105.72 works in the 104.64 department, and was born in 9-Sep-16.\n",
      "\t 107.27 works in the 107.25 department, and was born in 8-Sep-16.\n",
      "\t 108.76 works in the 107.83 department, and was born in 7-Sep-16.\n",
      "\t 108.30 works in the 107.90 department, and was born in 6-Sep-16.\n",
      "\t 108.00 works in the 107.70 department, and was born in 2-Sep-16.\n",
      "\t 106.80 works in the 106.14 department, and was born in 1-Sep-16.\n",
      "\t 106.57 works in the 105.66 department, and was born in 31-Aug-16.\n",
      "\t 106.50 works in the 105.80 department, and was born in 30-Aug-16.\n",
      "\t 107.44 works in the 106.62 department, and was born in 29-Aug-16.\n",
      "\t 107.95 works in the 107.41 department, and was born in 26-Aug-16.\n",
      "\t 107.88 works in the 107.39 department, and was born in 25-Aug-16.\n",
      "\t 108.75 works in the 108.56 department, and was born in 24-Aug-16.\n",
      "\t 109.32 works in the 108.59 department, and was born in 23-Aug-16.\n",
      "\t 109.10 works in the 108.86 department, and was born in 22-Aug-16.\n",
      "\t 109.69 works in the 108.77 department, and was born in 19-Aug-16.\n",
      "\t 109.60 works in the 109.23 department, and was born in 18-Aug-16.\n",
      "\t 109.37 works in the 109.10 department, and was born in 17-Aug-16.\n",
      "\t 110.23 works in the 109.63 department, and was born in 16-Aug-16.\n",
      "\t 109.54 works in the 108.14 department, and was born in 15-Aug-16.\n",
      "\t 108.44 works in the 107.78 department, and was born in 12-Aug-16.\n",
      "\t 108.93 works in the 108.52 department, and was born in 11-Aug-16.\n",
      "\t 108.90 works in the 108.71 department, and was born in 10-Aug-16.\n",
      "\t 108.94 works in the 108.23 department, and was born in 9-Aug-16.\n",
      "\t 108.37 works in the 107.52 department, and was born in 8-Aug-16.\n",
      "\t 107.65 works in the 106.27 department, and was born in 5-Aug-16.\n",
      "\t 106.00 works in the 105.58 department, and was born in 4-Aug-16.\n",
      "\t 105.84 works in the 104.81 department, and was born in 3-Aug-16.\n",
      "\t 106.07 works in the 106.05 department, and was born in 2-Aug-16.\n",
      "\t 106.15 works in the 104.41 department, and was born in 1-Aug-16.\n",
      "\t 104.55 works in the 104.19 department, and was born in 29-Jul-16.\n",
      "\t 104.45 works in the 102.83 department, and was born in 28-Jul-16.\n",
      "\t 104.35 works in the 104.26 department, and was born in 27-Jul-16.\n",
      "\t 97.97 works in the 96.82 department, and was born in 26-Jul-16.\n",
      "\t 98.84 works in the 98.25 department, and was born in 25-Jul-16.\n",
      "\t 99.30 works in the 99.26 department, and was born in 22-Jul-16.\n",
      "\t 101.00 works in the 99.83 department, and was born in 21-Jul-16.\n",
      "\t 100.46 works in the 100.00 department, and was born in 20-Jul-16.\n",
      "\t 100.00 works in the 99.56 department, and was born in 19-Jul-16.\n",
      "\t 100.13 works in the 98.70 department, and was born in 18-Jul-16.\n",
      "\t 99.30 works in the 98.92 department, and was born in 15-Jul-16.\n",
      "\t 98.99 works in the 97.39 department, and was born in 14-Jul-16.\n",
      "\t 97.67 works in the 97.41 department, and was born in 13-Jul-16.\n",
      "\t 97.70 works in the 97.17 department, and was born in 12-Jul-16.\n",
      "\t 97.65 works in the 96.75 department, and was born in 11-Jul-16.\n",
      "\t 96.89 works in the 96.49 department, and was born in 8-Jul-16.\n",
      "\t 96.50 works in the 95.70 department, and was born in 7-Jul-16.\n",
      "\t 95.66 works in the 94.60 department, and was born in 6-Jul-16.\n",
      "\t 95.40 works in the 95.39 department, and was born in 5-Jul-16.\n",
      "\t 96.46 works in the 95.49 department, and was born in 1-Jul-16.\n",
      "\t 95.77 works in the 94.44 department, and was born in 30-Jun-16.\n",
      "\t 94.55 works in the 93.97 department, and was born in 29-Jun-16.\n",
      "\t 93.66 works in the 92.90 department, and was born in 28-Jun-16.\n",
      "\t 93.05 works in the 93.00 department, and was born in 27-Jun-16.\n",
      "\t 94.66 works in the 92.91 department, and was born in 24-Jun-16.\n",
      "\t 96.29 works in the 95.94 department, and was born in 23-Jun-16.\n",
      "\t 96.89 works in the 96.25 department, and was born in 22-Jun-16.\n",
      "\t 96.35 works in the 94.94 department, and was born in 21-Jun-16.\n",
      "\t 96.57 works in the 96.00 department, and was born in 20-Jun-16.\n",
      "\t 96.65 works in the 96.62 department, and was born in 17-Jun-16.\n",
      "\t 97.75 works in the 96.45 department, and was born in 16-Jun-16.\n",
      "\t 98.41 works in the 97.82 department, and was born in 15-Jun-16.\n",
      "\t 98.48 works in the 97.32 department, and was born in 14-Jun-16.\n",
      "\t 99.12 works in the 98.69 department, and was born in 13-Jun-16.\n",
      "\t 99.35 works in the 98.53 department, and was born in 10-Jun-16.\n",
      "\t 99.99 works in the 98.50 department, and was born in 9-Jun-16.\n",
      "\t 99.56 works in the 99.02 department, and was born in 8-Jun-16.\n",
      "\t 99.87 works in the 99.25 department, and was born in 7-Jun-16.\n",
      "\t 101.89 works in the 97.99 department, and was born in 6-Jun-16.\n",
      "\t 98.27 works in the 97.79 department, and was born in 3-Jun-16.\n",
      "\t 97.84 works in the 97.60 department, and was born in 2-Jun-16.\n",
      "\t 99.54 works in the 99.02 department, and was born in 1-Jun-16.\n",
      "\t 100.40 works in the 99.60 department, and was born in 31-May-16.\n",
      "\t 100.47 works in the 99.44 department, and was born in 27-May-16.\n",
      "\t 100.73 works in the 99.68 department, and was born in 26-May-16.\n",
      "\t 99.74 works in the 98.67 department, and was born in 25-May-16.\n",
      "\t 98.09 works in the 97.22 department, and was born in 24-May-16.\n",
      "\t 97.19 works in the 95.87 department, and was born in 23-May-16.\n",
      "\t 95.43 works in the 94.64 department, and was born in 20-May-16.\n",
      "\t 94.64 works in the 94.64 department, and was born in 19-May-16.\n",
      "\t 95.21 works in the 94.16 department, and was born in 18-May-16.\n",
      "\t 94.70 works in the 94.55 department, and was born in 17-May-16.\n",
      "\t 94.39 works in the 92.39 department, and was born in 16-May-16.\n",
      "\t 91.67 works in the 90.00 department, and was born in 13-May-16.\n",
      "\t 92.78 works in the 92.72 department, and was born in 12-May-16.\n",
      "\t 93.57 works in the 93.48 department, and was born in 11-May-16.\n",
      "\t 93.57 works in the 93.33 department, and was born in 10-May-16.\n",
      "\t 93.77 works in the 93.00 department, and was born in 9-May-16.\n",
      "\t 93.45 works in the 93.37 department, and was born in 6-May-16.\n",
      "\t 94.07 works in the 94.00 department, and was born in 5-May-16.\n",
      "\t 95.90 works in the 95.20 department, and was born in 4-May-16.\n",
      "\t 95.74 works in the 94.20 department, and was born in 3-May-16.\n",
      "\t 94.08 works in the 93.96 department, and was born in 2-May-16.\n",
      "\t 94.72 works in the 93.99 department, and was born in 29-Apr-16.\n",
      "\t 97.88 works in the 97.61 department, and was born in 28-Apr-16.\n",
      "\t 98.71 works in the 96.00 department, and was born in 27-Apr-16.\n",
      "\t 105.30 works in the 103.91 department, and was born in 26-Apr-16.\n",
      "\t 105.65 works in the 105.00 department, and was born in 25-Apr-16.\n",
      "\t 106.48 works in the 105.01 department, and was born in 22-Apr-16.\n",
      "\t 106.93 works in the 106.93 department, and was born in 21-Apr-16.\n",
      "\t 108.09 works in the 106.64 department, and was born in 20-Apr-16.\n",
      "\t 108.00 works in the 107.88 department, and was born in 19-Apr-16.\n",
      "\t 108.95 works in the 108.89 department, and was born in 18-Apr-16.\n",
      "\t 112.30 works in the 112.11 department, and was born in 15-Apr-16.\n",
      "\t 112.39 works in the 111.62 department, and was born in 14-Apr-16.\n",
      "\t 112.34 works in the 110.80 department, and was born in 13-Apr-16.\n",
      "\t 110.50 works in the 109.34 department, and was born in 12-Apr-16.\n",
      "\t 110.61 works in the 108.97 department, and was born in 11-Apr-16.\n",
      "\t 109.77 works in the 108.91 department, and was born in 8-Apr-16.\n",
      "\t 110.42 works in the 109.95 department, and was born in 7-Apr-16.\n",
      "\t 110.98 works in the 110.23 department, and was born in 6-Apr-16.\n",
      "\t 110.73 works in the 109.51 department, and was born in 5-Apr-16.\n",
      "\t 112.19 works in the 110.42 department, and was born in 4-Apr-16.\n",
      "\t 110.00 works in the 108.78 department, and was born in 1-Apr-16.\n",
      "\t 109.90 works in the 109.72 department, and was born in 31-Mar-16.\n",
      "\t 110.42 works in the 108.65 department, and was born in 30-Mar-16.\n",
      "\t 107.79 works in the 104.89 department, and was born in 29-Mar-16.\n",
      "\t 106.19 works in the 106.00 department, and was born in 28-Mar-16.\n",
      "\t 106.25 works in the 105.47 department, and was born in 24-Mar-16.\n",
      "\t 107.07 works in the 106.48 department, and was born in 23-Mar-16.\n",
      "\t 107.29 works in the 105.25 department, and was born in 22-Mar-16.\n",
      "\t 107.65 works in the 105.93 department, and was born in 21-Mar-16.\n",
      "\t 106.50 works in the 106.34 department, and was born in 18-Mar-16.\n",
      "\t 106.47 works in the 105.52 department, and was born in 17-Mar-16.\n",
      "\t 106.31 works in the 104.61 department, and was born in 16-Mar-16.\n",
      "\t 105.18 works in the 103.96 department, and was born in 15-Mar-16.\n",
      "\t 102.91 works in the 101.91 department, and was born in 14-Mar-16.\n",
      "\t 102.28 works in the 102.24 department, and was born in 11-Mar-16.\n",
      "\t 102.24 works in the 101.41 department, and was born in 10-Mar-16.\n",
      "\t 101.58 works in the 101.31 department, and was born in 9-Mar-16.\n",
      "\t 101.76 works in the 100.78 department, and was born in 8-Mar-16.\n",
      "\t 102.83 works in the 102.39 department, and was born in 7-Mar-16.\n",
      "\t 103.75 works in the 102.37 department, and was born in 4-Mar-16.\n",
      "\t 101.71 works in the 100.58 department, and was born in 3-Mar-16.\n",
      "\t 100.89 works in the 100.51 department, and was born in 2-Mar-16.\n",
      "\t 100.77 works in the 97.65 department, and was born in 1-Mar-16.\n",
      "\t 98.23 works in the 96.86 department, and was born in 29-Feb-16.\n",
      "\t 98.02 works in the 97.20 department, and was born in 26-Feb-16.\n",
      "\t 96.76 works in the 96.05 department, and was born in 25-Feb-16.\n",
      "\t 96.38 works in the 93.98 department, and was born in 24-Feb-16.\n",
      "\t 96.50 works in the 96.40 department, and was born in 23-Feb-16.\n",
      "\t 96.90 works in the 96.31 department, and was born in 22-Feb-16.\n",
      "\t 96.76 works in the 96.00 department, and was born in 19-Feb-16.\n",
      "\t 98.89 works in the 98.84 department, and was born in 18-Feb-16.\n",
      "\t 98.21 works in the 96.67 department, and was born in 17-Feb-16.\n",
      "\t 96.85 works in the 95.02 department, and was born in 16-Feb-16.\n",
      "\t 94.50 works in the 94.19 department, and was born in 12-Feb-16.\n",
      "\t 94.72 works in the 93.79 department, and was born in 11-Feb-16.\n",
      "\t 96.35 works in the 95.92 department, and was born in 10-Feb-16.\n",
      "\t 95.94 works in the 94.29 department, and was born in 9-Feb-16.\n",
      "\t 95.70 works in the 93.13 department, and was born in 8-Feb-16.\n",
      "\t 96.92 works in the 96.52 department, and was born in 5-Feb-16.\n",
      "\t 97.33 works in the 95.86 department, and was born in 4-Feb-16.\n",
      "\t 96.84 works in the 95.00 department, and was born in 3-Feb-16.\n",
      "\t 96.04 works in the 95.42 department, and was born in 2-Feb-16.\n",
      "\t 96.71 works in the 96.47 department, and was born in 1-Feb-16.\n",
      "\t 97.34 works in the 94.79 department, and was born in 29-Jan-16.\n",
      "\t 94.52 works in the 93.79 department, and was born in 28-Jan-16.\n",
      "\t 96.63 works in the 96.04 department, and was born in 27-Jan-16.\n",
      "\t 100.88 works in the 99.93 department, and was born in 26-Jan-16.\n",
      "\t 101.53 works in the 101.52 department, and was born in 25-Jan-16.\n",
      "\t 101.46 works in the 98.63 department, and was born in 22-Jan-16.\n",
      "\t 97.88 works in the 97.06 department, and was born in 21-Jan-16.\n",
      "\t 98.19 works in the 95.10 department, and was born in 20-Jan-16.\n",
      "\t 98.65 works in the 98.41 department, and was born in 19-Jan-16.\n",
      "\t 97.71 works in the 96.20 department, and was born in 15-Jan-16.\n",
      "\t 100.48 works in the 97.96 department, and was born in 14-Jan-16.\n",
      "\t 101.19 works in the 100.32 department, and was born in 13-Jan-16.\n",
      "\t 100.69 works in the 100.55 department, and was born in 12-Jan-16.\n",
      "\t 99.06 works in the 98.97 department, and was born in 11-Jan-16.\n",
      "\t 99.11 works in the 98.55 department, and was born in 8-Jan-16.\n",
      "\t 100.13 works in the 98.68 department, and was born in 7-Jan-16.\n",
      "\t 102.37 works in the 100.56 department, and was born in 6-Jan-16.\n",
      "\t 105.85 works in the 105.75 department, and was born in 5-Jan-16.\n",
      "\t 105.37 works in the 102.61 department, and was born in 4-Jan-16.\n",
      "\t 107.03 works in the 107.01 department, and was born in 31-Dec-15.\n",
      "\t 108.70 works in the 108.58 department, and was born in 30-Dec-15.\n",
      "\t 109.43 works in the 106.96 department, and was born in 29-Dec-15.\n",
      "\t 107.69 works in the 107.59 department, and was born in 28-Dec-15.\n",
      "\t 109.00 works in the 109.00 department, and was born in 24-Dec-15.\n",
      "\t 108.85 works in the 107.27 department, and was born in 23-Dec-15.\n",
      "\t 107.72 works in the 107.40 department, and was born in 22-Dec-15.\n",
      "\t 107.37 works in the 107.28 department, and was born in 21-Dec-15.\n",
      "\t 109.52 works in the 108.91 department, and was born in 18-Dec-15.\n",
      "\t 112.25 works in the 112.02 department, and was born in 17-Dec-15.\n",
      "\t 111.99 works in the 111.07 department, and was born in 16-Dec-15.\n",
      "\t 112.80 works in the 111.94 department, and was born in 15-Dec-15.\n",
      "\t 112.68 works in the 112.18 department, and was born in 14-Dec-15.\n",
      "\t 115.39 works in the 115.19 department, and was born in 11-Dec-15.\n",
      "\t 116.94 works in the 116.04 department, and was born in 10-Dec-15.\n",
      "Processed 252 lines.\n"
     ]
    }
   ],
   "source": [
    "import csv\n",
    "\n",
    "with open('aapl.csv') as csv_file :\n",
    "    csv_reader = csv.reader(csv_file, delimiter=\",\")\n",
    "    line_count = 0\n",
    "    for row in csv_reader :\n",
    "        if line_count == 0 :\n",
    "            print(f'Column name are {\",\".join(row)}')\n",
    "            line_count +=1\n",
    "        else :\n",
    "            print(f'\\t {row[2]} works in the {row[1]} department, and was born in {row[0]}.')\n",
    "            line_count += 1\n",
    "    print(f'Processed {line_count} lines.')\n",
    "    "
   ]
  },
  {
   "cell_type": "code",
   "execution_count": 8,
   "id": "0bf2b2ab-235c-4290-a3d6-83f2179e5219",
   "metadata": {},
   "outputs": [
    {
     "name": "stdout",
     "output_type": "stream",
     "text": [
      "done\n"
     ]
    }
   ],
   "source": [
    "import csv \n",
    "\n",
    "fields = ['Name', 'Branch', 'Year', 'CGPA']\n",
    "\n",
    "rows = [ ['Nikhil', 'COE', '2', '9.0'], \n",
    "         ['Sanchit', 'COE', '2', '9.1'], \n",
    "         ['Aditya', 'IT', '2', '9.3'], \n",
    "         ['Sagar', 'SE', '1', '9.5'], \n",
    "         ['Prateek', 'MCE', '3', '7.8'], \n",
    "         ['Sahil', 'EP', '2', '9.1']] \n",
    "\n",
    "filename = \"office_records.csv\"\n",
    "\n",
    "\n",
    "\n",
    "with open(filename, 'w+') as csvfile :\n",
    "    csvwriter = csv.writer(csvfile)\n",
    "    \n",
    "    csvwriter.writerow(fields)\n",
    "    \n",
    "    csvwriter.writerows(rows)\n",
    "    \n",
    "print('done')"
   ]
  },
  {
   "cell_type": "code",
   "execution_count": 9,
   "id": "75071c12-5c76-4290-9576-76192cbd2a51",
   "metadata": {},
   "outputs": [
    {
     "name": "stdout",
     "output_type": "stream",
     "text": [
      "done\n"
     ]
    }
   ],
   "source": [
    "import csv \n",
    "\n",
    "fields = ['name', 'branch', 'year', 'cgpa']\n",
    "\n",
    "mydict =[{'branch': 'COE', 'cgpa': '9.0', 'name': 'Nikhil', 'year': '2'}, \n",
    "         {'branch': 'COE', 'cgpa': '9.1', 'name': 'Sanchit', 'year': '2'}, \n",
    "         {'branch': 'IT', 'cgpa': '9.3', 'name': 'Aditya', 'year': '2'}, \n",
    "         {'branch': 'SE', 'cgpa': '9.5', 'name': 'Sagar', 'year': '1'}, \n",
    "         {'branch': 'MCE', 'cgpa': '7.8', 'name': 'Prateek', 'year': '3'}, \n",
    "         {'branch': 'EP', 'cgpa': '9.1', 'name': 'Sahil', 'year': '2'}] \n",
    "  \n",
    "filename = \"office_records1.csv\"\n",
    "\n",
    "\n",
    "\n",
    "\n",
    "with open(filename, 'w+') as csvfile :\n",
    "    writer = csv.DictWriter(csvfile, fieldnames = fields)\n",
    "    \n",
    "    writer.writeheader()\n",
    "    \n",
    "    writer.writerows(mydict)\n",
    "    \n",
    "print('done')"
   ]
  },
  {
   "cell_type": "code",
   "execution_count": 10,
   "id": "65399b8f-3d63-4972-9110-2ab45e41355f",
   "metadata": {},
   "outputs": [
    {
     "name": "stdout",
     "output_type": "stream",
     "text": [
      "{\"quiz\": {\"sport\": {\"q1\": {\"question\": \"Which one is correct team name in NBA?\", \"options\": [\"New York Bulls\", \"Los Angeles Kings\", \"Golden State Warriros\", \"Huston Rocket\"], \"answer\": \"Huston Rocket\"}}, \"maths\": {\"q1\": {\"question\": \"5 + 7 = ?\", \"options\": [\"10\", \"11\", \"12\", \"13\"], \"answer\": \"12\"}, \"q2\": {\"question\": \"12 - 8 = ?\", \"options\": [\"1\", \"2\", \"3\", \"4\"], \"answer\": \"4\"}}}}\n"
     ]
    }
   ],
   "source": [
    "import json\n",
    "\n",
    "x = {\n",
    "    \"quiz\": {\n",
    "        \"sport\": {\n",
    "            \"q1\": {\n",
    "                \"question\": \"Which one is correct team name in NBA?\",\n",
    "                \"options\": [\n",
    "                    \"New York Bulls\",\n",
    "                    \"Los Angeles Kings\",\n",
    "                    \"Golden State Warriros\",\n",
    "                    \"Huston Rocket\"\n",
    "                ],\n",
    "                \"answer\": \"Huston Rocket\"\n",
    "            }\n",
    "        },\n",
    "        \"maths\": {\n",
    "            \"q1\": {\n",
    "                \"question\": \"5 + 7 = ?\",\n",
    "                \"options\": [\n",
    "                    \"10\",\n",
    "                    \"11\",\n",
    "                    \"12\",\n",
    "                    \"13\"\n",
    "                ],\n",
    "                \"answer\": \"12\"\n",
    "            },\n",
    "            \"q2\": {\n",
    "                \"question\": \"12 - 8 = ?\",\n",
    "                \"options\": [\n",
    "                    \"1\",\n",
    "                    \"2\",\n",
    "                    \"3\",\n",
    "                    \"4\"\n",
    "                ],\n",
    "                \"answer\": \"4\"\n",
    "            }\n",
    "        }\n",
    "    }\n",
    "}\n",
    "\n",
    "y = json.dumps(x)\n",
    "\n",
    "print(y)"
   ]
  },
  {
   "cell_type": "code",
   "execution_count": 11,
   "id": "e20a885c-06e0-4968-94f8-f1dba3afb6f0",
   "metadata": {},
   "outputs": [
    {
     "name": "stdout",
     "output_type": "stream",
     "text": [
      "File Name                                             Modified             Size\n",
      "iris.csv                                       2022-09-14 17:24:44         3858\n",
      "tips.csv                                       2022-09-13 10:43:48         9729\n",
      "extract files\n",
      "done\n"
     ]
    }
   ],
   "source": [
    "from zipfile import ZipFile\n",
    "\n",
    "file_name = \"seaborn-data.zip\"\n",
    "\n",
    "with ZipFile(file_name, 'r') as zip :\n",
    "    zip.printdir()\n",
    "    \n",
    "    print(\"extract files\")\n",
    "    \n",
    "    zip.extractall()\n",
    "    print(\"done\")"
   ]
  },
  {
   "cell_type": "code",
   "execution_count": 12,
   "id": "a69954cf-8475-4a8c-8160-48628378ca5f",
   "metadata": {},
   "outputs": [
    {
     "name": "stdout",
     "output_type": "stream",
     "text": [
      "Following files will be zipped:\n",
      "./citi\\aapl-Copy1.csv\n",
      "./citi\\iris-Copy1.csv\n",
      "./citi\\office_records-Copy1.csv\n",
      "./citi\\office_records.csv\n",
      "./citi\\office_records1-Copy1.csv\n",
      "./citi\\office_records1.csv\n",
      "./citi\\tips-Copy1.csv\n",
      "./citi\\.ipynb_checkpoints\\office_records-checkpoint.csv\n",
      "./citi\\.ipynb_checkpoints\\office_records1-checkpoint.csv\n",
      "All files zipped successfully!\n"
     ]
    }
   ],
   "source": [
    "from zipfile import ZipFile\n",
    "import os\n",
    " \n",
    "def get_all_file_paths(directory):\n",
    " \n",
    "    # initializing empty file paths list\n",
    "    file_paths = []\n",
    " \n",
    "    # crawling through directory and subdirectories\n",
    "    for root, directories, files in os.walk(directory):\n",
    "        for filename in files:\n",
    "            # join the two strings in order to form the full filepath.\n",
    "            filepath = os.path.join(root, filename)\n",
    "            file_paths.append(filepath)\n",
    " \n",
    "    # returning all file paths\n",
    "    return file_paths        \n",
    " \n",
    "def main():\n",
    "    # path to folder which needs to be zipped\n",
    "    directory = './citi'\n",
    " \n",
    "    # calling function to get all file paths in the directory\n",
    "    file_paths = get_all_file_paths(directory)\n",
    " \n",
    "    # printing the list of all files to be zipped\n",
    "    print('Following files will be zipped:')\n",
    "    for file_name in file_paths:\n",
    "        print(file_name)\n",
    " \n",
    "    # writing files to a zipfile\n",
    "    with ZipFile('my_python_files.zip','w') as zip:\n",
    "        # writing each file one by one\n",
    "        for file in file_paths:\n",
    "            zip.write(file)\n",
    " \n",
    "    print('All files zipped successfully!')        \n",
    " \n",
    "\n",
    "if __name__ == \"__main__\" :\n",
    "    main()\n",
    " "
   ]
  },
  {
   "cell_type": "code",
   "execution_count": 13,
   "id": "822057f6-5160-48a2-a9c8-e3cb6c3626f3",
   "metadata": {},
   "outputs": [
    {
     "name": "stdout",
     "output_type": "stream",
     "text": [
      "Requirement already satisfied: PyPDF2 in c:\\users\\dr_vi\\anaconda3\\lib\\site-packages (3.0.1)\n",
      "Requirement already satisfied: typing_extensions>=3.10.0.0 in c:\\users\\dr_vi\\anaconda3\\lib\\site-packages (from PyPDF2) (4.1.1)\n"
     ]
    },
    {
     "name": "stderr",
     "output_type": "stream",
     "text": [
      "\n",
      "[notice] A new release of pip available: 22.2.2 -> 23.1.1\n",
      "[notice] To update, run: python.exe -m pip install --upgrade pip\n"
     ]
    }
   ],
   "source": [
    "! pip install PyPDF2"
   ]
  },
  {
   "cell_type": "code",
   "execution_count": 14,
   "id": "8b9110ac-ae30-4d8c-9494-5bdf15171139",
   "metadata": {},
   "outputs": [
    {
     "name": "stdout",
     "output_type": "stream",
     "text": [
      "177\n",
      "Scala  \n",
      "3 \n",
      " \n",
      " \n",
      "Scala can be installed on any UNIX flavored or Windows based system. Before you start \n",
      "installing Scala on your machine, you must have Java 1.8 or greater installed on your \n",
      "computer.  \n",
      " \n",
      "Follow the steps given below to install  Scala . \n",
      "Step 1: Verify Your Java Installation  \n",
      "First of all, you need to have Java Software Development Kit (SDK) installed on your system. \n",
      "To verify this, execute any of the following two commands depending on the platform you are \n",
      "working on.  \n",
      "If the Java installation has been done properly, then it will display the current version and \n",
      "specification of your Java installation. A sample output is given in the following table.  \n",
      "Platform  Command  Sample Output  \n",
      " \n",
      " \n",
      "Windows  Open Command Console \n",
      "and type:  \n",
      "\\>java –version  Java version \"1.8.0_31 \" \n",
      "Java (TM) SE Run Time  \n",
      "Environment (build 1.8.0_31 -b31) \n",
      "Java Hotspot (TM) 64 -bit Server  \n",
      "VM (build 25.31 -b07, mixed mode)  \n",
      " \n",
      " \n",
      "Linux  Open Command terminal \n",
      "and type:  \n",
      "$java –version  Java version \"1.8.0_31 \" \n",
      "Open JDK Runtime Environment (rhel -\n",
      "2.8.10.4.el6_4 -x86_64)  \n",
      "Open JDK 64 -Bit Server VM (build 25.31 -\n",
      "b07, mixed mode)  2. SCALA – ENVIRONMENT  \n"
     ]
    }
   ],
   "source": [
    "import PyPDF2\n",
    "\n",
    "# creating a pdf File object\n",
    "pdfFileObj = open('scala_tutorial.pdf', 'rb')\n",
    "\n",
    "# creating a pdf Reader object\n",
    "pdfReader = PyPDF2.PdfReader(pdfFileObj)\n",
    "\n",
    "# printing number of pages in pdf file\n",
    "print(len(pdfReader.pages))\n",
    "\n",
    "# creating a page object\n",
    "pageObj = pdfReader.pages[10]\n",
    "\n",
    "# extracting text from page\n",
    "print(pageObj.extract_text())\n",
    "\n",
    "# closing the pdf file object\n",
    "pdfFileObj.close()\n"
   ]
  },
  {
   "cell_type": "code",
   "execution_count": 15,
   "id": "dddcc40c-54ae-4fee-8d61-42b7a24121cd",
   "metadata": {},
   "outputs": [
    {
     "name": "stdout",
     "output_type": "stream",
     "text": [
      "*****Movie*****\n",
      "Title: Enemy Behind\n",
      "Type: War, Thriller\n",
      "Format: DVD\n",
      "Year: 2003\n",
      "Rating: PG\n",
      "Stars: 10\n",
      "Description: Talk about a US-Japan war\n",
      "*****Movie*****\n",
      "Title: Transformers\n",
      "Type: Anime, Science Fiction\n",
      "Format: DVD\n",
      "Year: 1989\n",
      "Rating: R\n",
      "Stars: 8\n",
      "Description: A schientific fiction\n",
      "*****Movie*****\n",
      "Title: Trigun\n",
      "Type: Anime, Action\n",
      "Format: DVD\n",
      "Rating: PG\n",
      "Stars: 10\n",
      "Description: Vash the Stampede!\n",
      "*****Movie*****\n",
      "Title: Ishtar\n",
      "Type: Comedy\n",
      "Format: VHS\n",
      "Rating: PG\n",
      "Stars: 2\n",
      "Description: Viewable boredom\n"
     ]
    }
   ],
   "source": [
    "import xml.sax\n",
    "\n",
    "class MovieHandler( xml.sax.ContentHandler ):\n",
    "   def __init__(self):\n",
    "      self.CurrentData = \"\"\n",
    "      self.type = \"\"\n",
    "      self.format = \"\"\n",
    "      self.year = \"\"\n",
    "      self.rating = \"\"\n",
    "      self.stars = \"\"\n",
    "      self.description = \"\"\n",
    "\n",
    "   # Call when an element starts\n",
    "   def startElement(self, tag, attributes):\n",
    "      self.CurrentData = tag\n",
    "      if tag == \"movie\":\n",
    "         print (\"*****Movie*****\")\n",
    "         title = attributes[\"title\"]\n",
    "         print (\"Title:\", title)\n",
    "\n",
    "   # Call when an elements ends\n",
    "   def endElement(self, tag):\n",
    "      if self.CurrentData == \"type\":\n",
    "         print (\"Type:\", self.type)\n",
    "      elif self.CurrentData == \"format\":\n",
    "         print (\"Format:\", self.format)\n",
    "      elif self.CurrentData == \"year\":\n",
    "         print (\"Year:\", self.year)\n",
    "      elif self.CurrentData == \"rating\":\n",
    "         print (\"Rating:\", self.rating)\n",
    "      elif self.CurrentData == \"stars\":\n",
    "         print (\"Stars:\", self.stars)\n",
    "      elif self.CurrentData == \"description\":\n",
    "         print (\"Description:\", self.description)\n",
    "      self.CurrentData = \"\"\n",
    "\n",
    "   # Call when a character is read\n",
    "   def characters(self, content):\n",
    "      if self.CurrentData == \"type\":\n",
    "         self.type = content\n",
    "      elif self.CurrentData == \"format\":\n",
    "         self.format = content\n",
    "      elif self.CurrentData == \"year\":\n",
    "         self.year = content\n",
    "      elif self.CurrentData == \"rating\":\n",
    "         self.rating = content\n",
    "      elif self.CurrentData == \"stars\":\n",
    "         self.stars = content\n",
    "      elif self.CurrentData == \"description\":\n",
    "         self.description = content\n",
    "  \n",
    "if ( __name__ == \"__main__\"):\n",
    "   \n",
    "   # create an XMLReader\n",
    "   parser = xml.sax.make_parser()\n",
    "   # turn off namepsaces\n",
    "   parser.setFeature(xml.sax.handler.feature_namespaces, 0)\n",
    "\n",
    "   # override the default ContextHandler\n",
    "   Handler = MovieHandler()\n",
    "   parser.setContentHandler( Handler )\n",
    "   \n",
    "   parser.parse(\"movies.xml\")"
   ]
  },
  {
   "cell_type": "code",
   "execution_count": null,
   "id": "bc017cb9-17a9-422a-bc36-4f1d17769233",
   "metadata": {},
   "outputs": [],
   "source": []
  }
 ],
 "metadata": {
  "kernelspec": {
   "display_name": "Python 3 (ipykernel)",
   "language": "python",
   "name": "python3"
  },
  "language_info": {
   "codemirror_mode": {
    "name": "ipython",
    "version": 3
   },
   "file_extension": ".py",
   "mimetype": "text/x-python",
   "name": "python",
   "nbconvert_exporter": "python",
   "pygments_lexer": "ipython3",
   "version": "3.9.12"
  }
 },
 "nbformat": 4,
 "nbformat_minor": 5
}
